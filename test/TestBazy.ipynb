{
 "cells": [
  {
   "cell_type": "code",
   "execution_count": 1,
   "metadata": {
    "collapsed": false,
    "slideshow": {
     "slide_type": "-"
    }
   },
   "outputs": [],
   "source": [
    "from jizera import *"
   ]
  },
  {
   "cell_type": "code",
   "execution_count": 2,
   "metadata": {
    "collapsed": true
   },
   "outputs": [],
   "source": [
    "from os import remove\n",
    "\n",
    "remove(testdb_location)"
   ]
  },
  {
   "cell_type": "code",
   "execution_count": null,
   "metadata": {
    "collapsed": true
   },
   "outputs": [],
   "source": [
    "db.create_all()"
   ]
  },
  {
   "cell_type": "code",
   "execution_count": 2,
   "metadata": {
    "collapsed": false
   },
   "outputs": [
    {
     "name": "stdout",
     "output_type": "stream",
     "text": [
      "Łukasz Kowalski <lukaszek@abc.com>\n"
     ]
    }
   ],
   "source": [
    "observer = Observer('Łukasz','Kowalski','lukaszek@abc.com')\n",
    "print observer"
   ]
  },
  {
   "cell_type": "code",
   "execution_count": 3,
   "metadata": {
    "collapsed": false
   },
   "outputs": [
    {
     "name": "stdout",
     "output_type": "stream",
     "text": [
      "Wrocław (51.0000 N, 17.0000 E)\n",
      "52.1442 N, 19.1567 E\n",
      "Łukasz Kowalski <lukaszek@abc.com> commented on location Wrocław (51.0000 N, 17.0000 E): Bardzo fajnie miejsce, gdyby nie latarnie świecące wprost na pole.\n"
     ]
    }
   ],
   "source": [
    "location = Location(51.0,17.0,'Wrocław')\n",
    "print location\n",
    "location2 = Location(52.144215,19.15668446)\n",
    "print location2\n",
    "review = Review(location,observer,'Bardzo fajnie miejsce, gdyby nie latarnie świecące wprost na pole.')\n",
    "print review"
   ]
  },
  {
   "cell_type": "code",
   "execution_count": 4,
   "metadata": {
    "collapsed": false
   },
   "outputs": [
    {
     "name": "stdout",
     "output_type": "stream",
     "text": [
      "observation performed on 2016-09-21 22:00:00 by Łukasz Kowalski <lukaszek@abc.com> in location Wrocław (51.0000 N, 17.0000 E)\n"
     ]
    }
   ],
   "source": [
    "observation = Observation(location,observer)\n",
    "print observation"
   ]
  },
  {
   "cell_type": "code",
   "execution_count": 5,
   "metadata": {
    "collapsed": false
   },
   "outputs": [],
   "source": [
    "db.session.add(observer)\n",
    "db.session.add(location)\n",
    "db.session.add(location2)\n",
    "db.session.add(observation)\n",
    "db.session.add(review)\n",
    "db.session.commit()"
   ]
  }
 ],
 "metadata": {
  "celltoolbar": "Slideshow",
  "kernelspec": {
   "display_name": "Python 2",
   "language": "python",
   "name": "python2"
  },
  "language_info": {
   "codemirror_mode": {
    "name": "ipython",
    "version": 2
   },
   "file_extension": ".py",
   "mimetype": "text/x-python",
   "name": "python",
   "nbconvert_exporter": "python",
   "pygments_lexer": "ipython2",
   "version": "2.7.12"
  }
 },
 "nbformat": 4,
 "nbformat_minor": 0
}
